{
 "cells": [
  {
   "cell_type": "code",
   "execution_count": 1,
   "metadata": {},
   "outputs": [
    {
     "name": "stdout",
     "output_type": "stream",
     "text": [
      "Configuration read from /home/tyapici/.threeML/threeML_config.yml\n"
     ]
    },
    {
     "name": "stderr",
     "output_type": "stream",
     "text": [
      "\n",
      "WARNING RuntimeWarning: Env. variable OMP_NUM_THREADS is not set. Please set it to 1 for optimal performances in 3ML\n",
      "\n",
      "\n",
      "WARNING RuntimeWarning: Env. variable MKL_NUM_THREADS is not set. Please set it to 1 for optimal performances in 3ML\n",
      "\n",
      "\n",
      "WARNING RuntimeWarning: Env. variable NUMEXPR_NUM_THREADS is not set. Please set it to 1 for optimal performances in 3ML\n",
      "\n"
     ]
    }
   ],
   "source": [
    "import warnings\n",
    "\n",
    "with warnings.catch_warnings():\n",
    "    warnings.simplefilter(\"ignore\")\n",
    "    from threeML import *\n",
    "\n",
    "import sys\n",
    "sys.path.append(\"../py\")\n",
    "from DMModels3 import *\n",
    "\n",
    "import matplotlib.pyplot as plt"
   ]
  },
  {
   "cell_type": "code",
   "execution_count": 2,
   "metadata": {
    "scrolled": true
   },
   "outputs": [
    {
     "data": {
      "image/png": "[encoded data removed]",
      "text/plain": [
       "<matplotlib.figure.Figure at 0x7f8beaf72410>"
      ]
     },
     "metadata": {},
     "output_type": "display_data"
    }
   ],
   "source": [
    "# masses 1036.60 GeV, 11719.94 GeV, 108258.66 GeV\n",
    "# path /home/tyapici/data/DarkMatterAnalysisResults/flux/decay\n",
    "plt.clf()\n",
    "\n",
    "mass = 100e3 #GeV\n",
    "xx = np.logspace(8, np.log10(mass*1e6)) # in keV\n",
    "\n",
    "spec = DMAnnihilationFlux()\n",
    "J    = 19.66\n",
    "spec.J    = np.power(10., J)\n",
    "spec.mass = mass\n",
    "spec.sigmav.bounds  = (1e-27,1e-20)\n",
    "spec.sigmav         = 1e-23\n",
    "spec.process     = 0\n",
    "spec.channel     = 1\n",
    "spec.sigmav.fix  = True\n",
    "spec.J.fix       = True\n",
    "spec.process.fix = True\n",
    "spec.set_print_spec(False)\n",
    "\n",
    "spec2 = DMSpectra()\n",
    "spec2.mass = mass\n",
    "spec2.channel = 4 #bb\n",
    "spec2.sigmav = 1.e-23\n",
    "spec2.sigmav.bounds = (1.e-27,1.e-20)\n",
    "spec2.J = np.power(10., J)\n",
    "\n",
    "f1 = spec.evaluate(x=xx, mass=mass, channel=1, J=10**19.66, process=0, sigmav=1e-23, tau=1e26)\n",
    "f2 = spec2.evaluate(x=xx, channel=4, J=10**19.66, mass=mass, sigmav=1e-23)\n",
    "\n",
    "plt.loglog(xx/1e9, f1, label=\"tolga\", color='black')\n",
    "plt.loglog(xx/1e9, f2, label=\"andrea\")\n",
    "plt.legend()\n",
    "plt.xlim(0.5,100)\n",
    "plt.ylim(1e-30, 1e-20)\n",
    "#x, y = np.loadtxt(\"/home/tyapici/data/DarkMatterAnalysisResults/flux/annihilation/Segue1_{:.6f}GeV_tautau_flux.dat\".format(mass), unpack=True)\n",
    "#plt.loglog(x, y, color='red')\n",
    "plt.show()"
   ]
  },
  {
   "cell_type": "code",
   "execution_count": 3,
   "metadata": {},
   "outputs": [
    {
     "data": {
      "image/png": "[encoded data removed]",
      "text/plain": [
       "<matplotlib.figure.Figure at 0x7f8be74fd910>"
      ]
     },
     "metadata": {},
     "output_type": "display_data"
    }
   ],
   "source": [
    "# masses 1036.60 GeV, 11719.94 GeV, 108258.66 GeV\n",
    "# path /home/tyapici/data/DarkMatterAnalysisResults/flux/decay\n",
    "plt.clf()\n",
    "\n",
    "mass = 1e3 #GeV\n",
    "xx = np.logspace(8, np.log10(mass*1e6)) # in keV\n",
    "\n",
    "spec = DMAnnihilationFlux()\n",
    "J    = 19.66\n",
    "spec.J    = np.power(10., J)\n",
    "spec.mass = mass\n",
    "spec.sigmav.bounds  = (1e-27,1e-20)\n",
    "spec.sigmav         = 1e-23\n",
    "spec.process     = 0\n",
    "spec.channel     = 1\n",
    "spec.sigmav.fix  = True\n",
    "spec.J.fix       = True\n",
    "spec.process.fix = True\n",
    "spec.set_print_spec(False)\n",
    "\n",
    "spec2 = DMSpectra()\n",
    "spec2.mass = mass\n",
    "spec2.channel = 4 #bb\n",
    "spec2.sigmav = 1.e-23\n",
    "spec2.sigmav.bounds = (1.e-27,1.e-20)\n",
    "spec2.J = np.power(10., J)\n",
    "\n",
    "f1 = spec.evaluate(x=xx, mass=mass, channel=1, J=10**19.66, process=0, sigmav=1e-23, tau=1e26)\n",
    "f2 = spec2.evaluate(x=xx, channel=4, J=10**19.66, mass=mass, sigmav=1e-23)\n",
    "\n",
    "plt.loglog(xx/1e9, f1, label=\"tolga\", color='black')\n",
    "plt.loglog(xx/1e9, f2, label=\"andrea\")\n",
    "plt.legend()\n",
    "plt.xlim(0.5,100)\n",
    "plt.ylim(1e-30, 1e-20)\n",
    "#x, y = np.loadtxt(\"/home/tyapici/data/DarkMatterAnalysisResults/flux/annihilation/Segue1_{:.6f}GeV_tautau_flux.dat\".format(mass), unpack=True)\n",
    "#plt.loglog(x, y, color='red')\n",
    "plt.show()"
   ]
  },
  {
   "cell_type": "code",
   "execution_count": null,
   "metadata": {
    "collapsed": true
   },
   "outputs": [],
   "source": []
  }
 ],
 "metadata": {
  "kernelspec": {
   "display_name": "Python 3",
   "language": "python",
   "name": "python3"
  },
  "language_info": {
   "codemirror_mode": {
    "name": "ipython",
    "version": 2
   },
   "file_extension": ".py",
   "mimetype": "text/x-python",
   "name": "python",
   "nbconvert_exporter": "python",
   "pygments_lexer": "ipython2",
   "version": "2.7.13"
  }
 },
 "nbformat": 4,
 "nbformat_minor": 2
}
