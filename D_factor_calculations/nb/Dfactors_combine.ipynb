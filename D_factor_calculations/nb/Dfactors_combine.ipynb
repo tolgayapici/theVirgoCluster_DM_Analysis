{
 "cells": [
  {
   "cell_type": "markdown",
   "metadata": {},
   "source": [
    "# This notebook demonstrates to transform the output of CLUMPY to a template we can use for the HAWC analysis"
   ]
  },
  {
   "cell_type": "code",
   "execution_count": 1,
   "metadata": {},
   "outputs": [],
   "source": [
    "# import the necessary packages\n",
    "import astropy.io.fits as fits\n",
    "from astropy.coordinates import SkyCoord\n",
    "from astropy import units as u\n",
    "import numpy as np\n",
    "import matplotlib.pyplot as plt # may not be necessary\n",
    "import matplotlib.colors as colors\n",
    "import healpy as hp\n",
    "from scipy.interpolate import interp2d\n",
    "import pickle\n",
    "import os\n",
    "\n",
    "from matplotlib import rcParams\n",
    "rcParams['figure.figsize'] = [8.0, 6.0]\n",
    "rcParams['xtick.labelsize'] = 14\n",
    "rcParams['ytick.labelsize'] = 14\n",
    "rcParams['axes.labelsize'] = 14\n",
    "rcParams['legend.fontsize'] = 11"
   ]
  },
  {
   "cell_type": "code",
   "execution_count": 2,
   "metadata": {},
   "outputs": [
    {
     "name": "stdout",
     "output_type": "stream",
     "text": [
      "header 1: JFACTOR\n",
      "header 2: JFACTOR_PER_SR\n"
     ]
    }
   ],
   "source": [
    "# M87\n",
    "lon_M87 = 283.77\n",
    "lat_M87 = 74.49\n",
    "# M49\n",
    "lon_M49 = 286.92\n",
    "lat_M49 = 70.20\n",
    "# Virgo Cluster\n",
    "lon_Virgo = 283.77\n",
    "lat_Virgo = 74.49\n",
    "\n",
    "M87_coords = SkyCoord(lon_M87*u.degree, lat_M87*u.degree, frame='galactic', unit='degree')\n",
    "M87_lat = M87_coords.galactic.l.radian\n",
    "M87_lon = M87_coords.galactic.b.radian\n",
    "\n",
    "M49_coords = SkyCoord(lon_M49*u.degree, lat_M49*u.degree, frame='galactic', unit='degree')\n",
    "M49_lat = M49_coords.galactic.l.radian\n",
    "M49_lon = M49_coords.galactic.b.radian\n",
    "\"\"\"\n",
    "M87_filename    = \"../output/decay_M872D_FOVdiameter12.0deg_rse1_alphaint0.11deg_nside1024.fits\"\n",
    "M49_filename    = \"../output/decay_M492D_FOVdiameter12.0deg_rse1_alphaint0.11deg_nside1024.fits\"\n",
    "VirgoC_filename = \"../output/decay_VirgoC2D_FOVdiameter12.0deg_rse1_alphaint0.11deg_nside1024.fits\"\n",
    "\"\"\"\n",
    "M87_filename    = \"../output/decay_M87_NFW2D_FOVdiameter14.0deg_rse1_alphaint0.06deg_nside2048.fits\"\n",
    "M49_filename    = \"../output/decay_M49_NFW2D_FOVdiameter14.0deg_rse1_alphaint0.06deg_nside2048.fits\"\n",
    "VirgoC_filename = \"../output/decay_VirgoC_NFW2D_FOVdiameter14.0deg_rse1_alphaint0.06deg_nside2048.fits\"\n",
    "\"\"\"\n",
    "M87_filename    = \"../output/decay_M87_GAO2D_FOVdiameter14.0deg_rse1_alphaint0.06deg_nside2048.fits\"\n",
    "M49_filename    = \"../output/decay_M49_GAO2D_FOVdiameter14.0deg_rse1_alphaint0.06deg_nside2048.fits\"\n",
    "VirgoC_filename = \"../output/decay_VirgoC_GAO2D_FOVdiameter14.0deg_rse1_alphaint0.06deg_nside2048.fits\"\n",
    "\"\"\"\n",
    "M87_hdus = fits.open(M87_filename)\n",
    "M49_hdus = fits.open(M49_filename)\n",
    "Virgo_hdus = fits.open(VirgoC_filename)\n",
    "\n",
    "for i in range(1, len(M87_hdus)):\n",
    "    print(\"header {}: {}\".format(i, M87_hdus[i].header['EXTNAME']))\n",
    "#    \n",
    "#for i in range(1, len(M49_hdus)):\n",
    "#    print(\"header {}: {}\".format(i, M49_hdus[i].header['EXTNAME']))"
   ]
  },
  {
   "cell_type": "code",
   "execution_count": 3,
   "metadata": {
    "collapsed": true
   },
   "outputs": [],
   "source": [
    "def generate_cartesian_file(hdus, lon, lat, label, index=1):\n",
    "    content = hdus[index].header\n",
    "    theta_0 = content['THETA_0']\n",
    "    psi_0   = content['PSI_0']\n",
    "    size_x  = content['SIZE_X']\n",
    "    size_y  = content['SIZE_Y']\n",
    "    dangle  = content['ALPHAINT']\n",
    "\n",
    "    content = hdus[index].data\n",
    "    pixels  = content['PIXEL']\n",
    "    Jtotal  = content['Dtot']\n",
    "    Jsmooth = content['Dsmooth']\n",
    "    Jsub    = content['Dsub']\n",
    "    #Jcross  = content['Dcrossp']\n",
    "    NSIDE    = hdus[2].header['NSIDE']\n",
    "    ordering = hdus[2].header['ORDERING']\n",
    "    if ordering == \"NESTED\":\n",
    "        nested = True\n",
    "    else:\n",
    "        nested = False\n",
    "\n",
    "    nPix = hp.nside2npix(NSIDE)\n",
    "    num_used_pixels = len(pixels)\n",
    "    theta_rad, phi_rad = hp.pixelfunc.pix2ang(NSIDE, pixels, nest=nested)\n",
    "    # change the angles according to our conventions\n",
    "    theta, phi = -np.degrees(theta_rad-np.pi/2.-lon), np.degrees(np.pi*2.-phi_rad+lat)\n",
    "    phi[np.where(phi>360)] -= 360.\n",
    "    # Process the data for 3ML use\n",
    "    nxPix = 140\n",
    "    nyPix = 140\n",
    "    refX  = 70.5\n",
    "    refY  = 70.5\n",
    "    delX  = -dangle\n",
    "    delY  = dangle\n",
    "    x = np.zeros(nPix)\n",
    "    x[pixels] = Jtotal/np.max(Jtotal)\n",
    "    dmROI = np.zeros([nxPix, nyPix])\n",
    "    for i in range(nxPix):\n",
    "        for j in range(nyPix):\n",
    "            ra_roi = (i-np.int(refX))*delX                                                                          \n",
    "            dec_roi = (j-np.int(refY))*delY\n",
    "            hpix = hp.pixelfunc.ang2pix(NSIDE,np.radians(-dec_roi+90.),np.radians(360.-ra_roi), nest=nested)\n",
    "            #print(hpix)\n",
    "            dmROI[i,j] = x[hpix]\n",
    "    dmROI = np.multiply(dmROI, (np.degrees(1)**2/delX**2))\n",
    "    # convert from galactic coordinates to fk5\n",
    "    coords = SkyCoord(lon*u.degree, lat*u.degree, frame='galactic', unit='degree')\n",
    "    RA  = coords.fk5.ra.degree\n",
    "    DEC = coords.fk5.dec.degree\n",
    "    # write the output to the new file\n",
    "    new_hdu = fits.PrimaryHDU(dmROI)\n",
    "    new_hdu.header['CTYPE1'] = 'RA'\n",
    "    new_hdu.header['CTYPE2'] = 'DEC'\n",
    "    new_hdu.header['CUNIT1'] = 'deg'\n",
    "    new_hdu.header['CUNIT2'] = 'deg'\n",
    "    new_hdu.header['CRPIX1'] = refX\n",
    "    new_hdu.header['CRPIX2'] = refY\n",
    "    new_hdu.header['CRVAL1'] = RA\n",
    "    new_hdu.header['CRVAL2'] = DEC\n",
    "    new_hdu.header['CDELT1'] = delX\n",
    "    new_hdu.header['CDELT2'] = delY\n",
    "    #new_hdu.header['DMAX']   = np.log10(Jtotal.max())\n",
    "    hdulist = fits.HDUList([new_hdu])\n",
    "    hdulist.writeto('{}_Dfactor_template.fits'.format(label))\n",
    "    print(\"For {}: Dmax={}\".format(label, np.log10(Jtotal.max())))"
   ]
  },
  {
   "cell_type": "code",
   "execution_count": 4,
   "metadata": {},
   "outputs": [
    {
     "name": "stdout",
     "output_type": "stream",
     "text": [
      "For M87_nfw: Dmax=18.0183296204\n",
      "For M49_nfw: Dmax=17.6360435486\n",
      "For VirgoC_nfw: Dmax=18.6541938782\n"
     ]
    }
   ],
   "source": [
    "generate_cartesian_file(M87_hdus, lon_M87, lat_M87, \"M87_nfw\")\n",
    "generate_cartesian_file(M49_hdus, lon_M49, lat_M49, \"M49_nfw\")\n",
    "generate_cartesian_file(Virgo_hdus, lon_Virgo, lat_Virgo, \"VirgoC_nfw\")"
   ]
  },
  {
   "cell_type": "code",
   "execution_count": null,
   "metadata": {
    "collapsed": true
   },
   "outputs": [],
   "source": []
  }
 ],
 "metadata": {
  "kernelspec": {
   "display_name": "Python 3",
   "language": "python",
   "name": "python3"
  },
  "language_info": {
   "codemirror_mode": {
    "name": "ipython",
    "version": 2
   },
   "file_extension": ".py",
   "mimetype": "text/x-python",
   "name": "python",
   "nbconvert_exporter": "python",
   "pygments_lexer": "ipython2",
   "version": "2.7.13"
  }
 },
 "nbformat": 4,
 "nbformat_minor": 2
}
