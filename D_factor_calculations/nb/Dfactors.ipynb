{
 "cells": [
  {
   "cell_type": "markdown",
   "metadata": {},
   "source": [
    "# This notebook demonstrates to transform the output of CLUMPY to a template we can use for the HAWC analysis"
   ]
  },
  {
   "cell_type": "code",
   "execution_count": 1,
   "metadata": {
    "collapsed": true
   },
   "outputs": [],
   "source": [
    "# import the necessary packages\n",
    "import astropy.io.fits as fits\n",
    "from astropy.coordinates import SkyCoord\n",
    "from astropy import units as u\n",
    "import numpy as np\n",
    "import matplotlib.pyplot as plt # may not be necessary\n",
    "import matplotlib.colors as colors\n",
    "import healpy as hp\n",
    "from scipy.interpolate import interp2d\n",
    "import pickle\n",
    "import os\n",
    "\n",
    "from matplotlib import rcParams\n",
    "rcParams['figure.figsize'] = [8.0, 6.0]\n",
    "rcParams['xtick.labelsize'] = 14\n",
    "rcParams['ytick.labelsize'] = 14\n",
    "rcParams['axes.labelsize'] = 14\n",
    "rcParams['legend.fontsize'] = 11"
   ]
  },
  {
   "cell_type": "code",
   "execution_count": 2,
   "metadata": {},
   "outputs": [
    {
     "name": "stdout",
     "output_type": "stream",
     "text": [
      "header 1: JFACTOR\n",
      "header 2: JFACTOR_PER_SR\n",
      "header 3: INTEGRATED_FLUXES\n"
     ]
    }
   ],
   "source": [
    "# Virgo Cluster coordinates\n",
    "RA  = 186.75\n",
    "DEC = 12.3\n",
    "virgo_coords = SkyCoord(ra=RA*u.degree, dec=DEC*u.degree, frame='fk5')\n",
    "virgo_lat = virgo_coords.galactic.l.radian\n",
    "virgo_lon = virgo_coords.galactic.b.radian\n",
    "\n",
    "filename = \"../output/annihil_Virgo2D_FOVdiameter14.0deg_rse5_alphaint0.11deg_nside1024.fits\"\n",
    "hdus     = fits.open(filename)\n",
    "for i in range(1, len(hdus)):\n",
    "    print(\"header {}: {}\".format(i, hdus[i].header['EXTNAME']))"
   ]
  },
  {
   "cell_type": "markdown",
   "metadata": {},
   "source": [
    "## Read the data from the fits generated with CLUMPY"
   ]
  },
  {
   "cell_type": "code",
   "execution_count": 3,
   "metadata": {},
   "outputs": [
    {
     "name": "stdout",
     "output_type": "stream",
     "text": [
      "max log10(J)/sr is 21.0312728882\n"
     ]
    }
   ],
   "source": [
    "content = hdus[1].header\n",
    "theta_0 = content['THETA_0']\n",
    "psi_0   = content['PSI_0']\n",
    "size_x  = content['SIZE_X']\n",
    "size_y  = content['SIZE_Y']\n",
    "dangle  = content['ALPHAINT']\n",
    "\n",
    "content = hdus[1].data\n",
    "pixels  = content['PIXEL']\n",
    "Jtotal  = content['Jtot']\n",
    "Jsmooth = content['Jsmooth']\n",
    "Jsub    = content['Jsub']\n",
    "Jcross  = content['Jcrossp']\n",
    "NSIDE    = hdus[2].header['NSIDE']\n",
    "ordering = hdus[2].header['ORDERING']\n",
    "if ordering == \"NESTED\":\n",
    "    nested = True\n",
    "else:\n",
    "    nested = False\n",
    "\n",
    "nPix = hp.nside2npix(NSIDE)\n",
    "num_used_pixels = len(pixels)\n",
    "theta_rad, phi_rad = hp.pixelfunc.pix2ang(NSIDE, pixels, nest=nested)\n",
    "# change the angles according to our conventions\n",
    "theta, phi = -np.degrees(theta_rad-np.pi/2.-virgo_lon), np.degrees(np.pi*2.-phi_rad+virgo_lat)\n",
    "phi[np.where(phi>360)] -= 360.\n",
    "\n",
    "print(\"max log10(J)/sr is {}\".format(np.log10(Jtotal.max())))"
   ]
  },
  {
   "cell_type": "code",
   "execution_count": 4,
   "metadata": {
    "scrolled": true
   },
   "outputs": [
    {
     "data": {
      "text/plain": [
       "<matplotlib.figure.Figure at 0x7fe2c5647c10>"
      ]
     },
     "metadata": {},
     "output_type": "display_data"
    },
    {
     "data": {
      "image/png": "[encoded data removed]",
      "text/plain": [
       "<matplotlib.figure.Figure at 0x7fe283076e10>"
      ]
     },
     "metadata": {},
     "output_type": "display_data"
    }
   ],
   "source": [
    "plt.clf()\n",
    "Jtot = np.ones(nPix)\n",
    "Jtot[pixels] = Jtotal\n",
    "hp.cartview(Jtot, latra=[-7., 7.], lonra=[-7., 7.], nest=nested, \n",
    "            min=1e21, norm='log', title=\"J factor per sr\", unit=\"J/sr\")\n",
    "plt.savefig(\"../original_template.pdf\", bbox_inches='tight')\n",
    "plt.savefig(\"../original_template.png\", bbox_inches='tight')\n",
    "plt.savefig(\"../original_template.eps\", bbox_inches='tight')\n",
    "plt.show()"
   ]
  },
  {
   "cell_type": "markdown",
   "metadata": {},
   "source": [
    "## Process the data for 3ML use"
   ]
  },
  {
   "cell_type": "code",
   "execution_count": 5,
   "metadata": {
    "collapsed": true,
    "scrolled": true
   },
   "outputs": [],
   "source": [
    "nxPix = 140\n",
    "nyPix = 140\n",
    "refX  = 70.5\n",
    "refY  = 70.5\n",
    "delX  = -dangle\n",
    "delY  = dangle\n",
    "x = np.zeros(nPix)\n",
    "x[pixels] = Jtotal/np.max(Jtotal)\n",
    "dmROI = np.zeros([nxPix, nyPix])\n",
    "for i in range(nxPix):\n",
    "    for j in range(nyPix):\n",
    "        ra_roi = (i-np.int(refX))*delX                                                                          \n",
    "        dec_roi = (j-np.int(refY))*delY\n",
    "        hpix = hp.pixelfunc.ang2pix(NSIDE,np.radians(-dec_roi+90.),np.radians(360.-ra_roi), nest=nested)\n",
    "        #print(hpix)\n",
    "        dmROI[i,j] = x[hpix]"
   ]
  },
  {
   "cell_type": "code",
   "execution_count": 6,
   "metadata": {
    "collapsed": true
   },
   "outputs": [],
   "source": [
    "new_hdu = fits.PrimaryHDU(dmROI)\n",
    "new_hdu.header['CTYPE1'] = 'RA'\n",
    "new_hdu.header['CTYPE2'] = 'DEC'\n",
    "new_hdu.header['CUNIT1'] = 'deg'\n",
    "new_hdu.header['CUNIT2'] = 'deg'\n",
    "new_hdu.header['CRPIX1'] = refX\n",
    "new_hdu.header['CRPIX2'] = refY\n",
    "new_hdu.header['CRVAL1'] = RA\n",
    "new_hdu.header['CRVAL2'] = DEC\n",
    "new_hdu.header['CDELT1'] = delX\n",
    "new_hdu.header['CDELT2'] = delY\n",
    "hdulist = fits.HDUList([new_hdu])\n",
    "hdulist.writeto('VirgoCluster_Jfactor_template.fits')"
   ]
  },
  {
   "cell_type": "markdown",
   "metadata": {},
   "source": [
    "## This section explains how to transform the CLUMPY generated file to a file that can be used in AERIE"
   ]
  },
  {
   "cell_type": "code",
   "execution_count": 23,
   "metadata": {},
   "outputs": [
    {
     "name": "stdout",
     "output_type": "stream",
     "text": [
      "pickles exist... I will read the interpolators from the pickles...\n"
     ]
    }
   ],
   "source": [
    "if os.path.isfile(\"interpolator1.pkl\"):\n",
    "    # pickles exist. so only read it and save time\n",
    "    print(\"pickles exist... I will read the interpolators from the pickles...\")\n",
    "    interpolator1 = pickle.load(open(\"interpolator1.pkl\", \"rb\"))\n",
    "    interpolator2 = pickle.load(open(\"interpolator2.pkl\", \"rb\"))\n",
    "else:\n",
    "    print(\"pickles are missing... I will run the analysis for interpolators...\")\n",
    "    interpolator1 = interp2d(theta[:25000], phi[:25000], np.log10(Jtotal[:25000]), bounds_error=True)\n",
    "    interpolator2 = interp2d(theta[25000:], phi[25000:], np.log10(Jtotal[25000:]), bounds_error=True)\n",
    "    with open('interpolator1.pkl', 'wb') as f:\n",
    "        pickle.dump(interpolator1, f)\n",
    "    with open('interpolator2.pkl', 'wb') as f:\n",
    "        pickle.dump(interpolator2, f)"
   ]
  },
  {
   "cell_type": "code",
   "execution_count": 31,
   "metadata": {
    "collapsed": true
   },
   "outputs": [],
   "source": [
    "pixAngle = hp.pix2ang(NSIDE, range(nPix), nest=nested)\n",
    "lon, lat = -np.degrees(pixAngle[0]-np.pi/2.), np.degrees(np.pi*2.-pixAngle[1])"
   ]
  },
  {
   "cell_type": "code",
   "execution_count": 32,
   "metadata": {
    "collapsed": true
   },
   "outputs": [],
   "source": [
    "pix1 = []\n",
    "j_factors1 = []\n",
    "for i in range(nPix):\n",
    "    try:\n",
    "        j_value  = interpolator1(lon[i], lat[i])[0]\n",
    "        if j_value > 26:\n",
    "            continue\n",
    "        pix1.append(i)\n",
    "        j_factors1.append(j_value)\n",
    "    except:\n",
    "        continue\n",
    "    \n",
    "pix2 = []\n",
    "j_factors2= []\n",
    "for i in range(nPix):\n",
    "    try:\n",
    "        j_value  = interpolator2(lon[i], lat[i])[0]\n",
    "        if j_value > 26:\n",
    "            continue\n",
    "        pix2.append(i)\n",
    "        j_factors2.append(j_value)\n",
    "    except:\n",
    "        continue\n",
    "\n",
    "Jtot = np.zeros(nPix)\n",
    "Jtot[pix1] = j_factors1\n",
    "Jtot[pix2] = j_factors2"
   ]
  },
  {
   "cell_type": "code",
   "execution_count": 114,
   "metadata": {
    "scrolled": true
   },
   "outputs": [
    {
     "data": {
      "text/plain": [
       "<matplotlib.figure.Figure at 0x7f86f6de3710>"
      ]
     },
     "metadata": {},
     "output_type": "display_data"
    },
    {
     "data": {
      "image/png": "[encoded data removed]",
      "text/plain": [
       "<matplotlib.figure.Figure at 0x7f86f659e850>"
      ]
     },
     "metadata": {},
     "output_type": "display_data"
    }
   ],
   "source": [
    "Jtot = np.zeros(nPix)\n",
    "Jtot[pix1] = j_factors1\n",
    "for i in range(len(pix2)):\n",
    "    if Jtot[pix2[i]] < 20:\n",
    "        Jtot[pix2[i]] = j_factors2[i]\n",
    "plt.clf()\n",
    "Jtot[np.where(Jtot<=21)] = 0\n",
    "Jtot[np.where(Jtot>=26)] = 0\n",
    "Jtot = 10**Jtot\n",
    "hp.cartview(Jtot, latra=[67., 82.], lonra=[70., 90.], nest=nested, min=1e21, max=1e26,\n",
    "           title=\"J factor per sr\", unit=\"log(J)/sr\", norm='log')\n",
    "plt.savefig(\"../translated_template.pdf\", bbox_inches='tight')\n",
    "plt.savefig(\"../translated_template.png\", bbox_inches='tight')\n",
    "plt.savefig(\"../translated_template.eps\", bbox_inches='tight')\n",
    "plt.show()\n",
    "Jtot = Jtot/np.max(Jtot)"
   ]
  },
  {
   "cell_type": "code",
   "execution_count": 146,
   "metadata": {
    "collapsed": true
   },
   "outputs": [],
   "source": [
    "new_hdu = fits.PrimaryHDU(Jtot)\n",
    "new_hdu.header['CTYPE1'] = 'RA'\n",
    "new_hdu.header['CTYPE2'] = 'DEC'\n",
    "new_hdu.header['CUNIT1'] = 'deg'\n",
    "new_hdu.header['CUNIT2'] = 'deg'\n",
    "new_hdu.header['CRPIX1'] = 70.5\n",
    "new_hdu.header['CRPIX2'] = 70.5\n",
    "new_hdu.header['CRVAL1'] = RA\n",
    "new_hdu.header['CRVAL2'] = DEC\n",
    "new_hdu.header['CDELT1'] = -dangle\n",
    "new_hdu.header['CDELT2'] = dangle\n",
    "hdulist = fits.HDUList([new_hdu])\n",
    "hdulist.writeto('VirgoCluster_Jfactor_template.fits')"
   ]
  },
  {
   "cell_type": "code",
   "execution_count": null,
   "metadata": {
    "collapsed": true
   },
   "outputs": [],
   "source": []
  },
  {
   "cell_type": "code",
   "execution_count": null,
   "metadata": {
    "collapsed": true
   },
   "outputs": [],
   "source": []
  },
  {
   "cell_type": "code",
   "execution_count": null,
   "metadata": {
    "collapsed": true
   },
   "outputs": [],
   "source": []
  },
  {
   "cell_type": "code",
   "execution_count": null,
   "metadata": {
    "collapsed": true
   },
   "outputs": [],
   "source": []
  },
  {
   "cell_type": "code",
   "execution_count": null,
   "metadata": {
    "collapsed": true
   },
   "outputs": [],
   "source": []
  },
  {
   "cell_type": "code",
   "execution_count": 201,
   "metadata": {
    "collapsed": true
   },
   "outputs": [],
   "source": [
    "x = fits.open(\"VirgoCluster_Jfactor_template.fits\")"
   ]
  },
  {
   "cell_type": "code",
   "execution_count": 132,
   "metadata": {
    "collapsed": true
   },
   "outputs": [],
   "source": [
    "from astropy import wcs\n",
    "from astropy.coordinates import SkyCoord, ICRS, BaseCoordinateFrame"
   ]
  },
  {
   "cell_type": "code",
   "execution_count": 202,
   "metadata": {
    "collapsed": true
   },
   "outputs": [],
   "source": [
    "_wcs = wcs.WCS(header=x[0].header)\n",
    "_nX = x[0].header['NAXIS1']\n",
    "_nY = x[0].header['NAXIS2']\n",
    "_map = x[0].data"
   ]
  },
  {
   "cell_type": "code",
   "execution_count": 189,
   "metadata": {},
   "outputs": [
    {
     "data": {
      "text/plain": [
       "<SkyCoord (ICRS): (ra, dec) in deg\n",
       "    [( 194.7425,   4.3075), ( 194.7425,  20.4075), ( 178.6425,   4.3075),\n",
       "     ( 178.6425,  20.4075)]>"
      ]
     },
     "execution_count": 189,
     "metadata": {},
     "output_type": "execute_result"
    }
   ],
   "source": [
    "xcorners = np.array( [0, 0, _nX, _nX] )\n",
    "ycorners = np.array( [0, _nY, 0, _nY] )\n",
    "SkyCoord.from_pixel( xcorners, ycorners, wcs=_wcs, origin = 0, mode='wcs')"
   ]
  },
  {
   "cell_type": "code",
   "execution_count": 203,
   "metadata": {},
   "outputs": [
    {
     "data": {
      "text/plain": [
       "0.99995779991149902"
      ]
     },
     "execution_count": 203,
     "metadata": {},
     "output_type": "execute_result"
    }
   ],
   "source": [
    "np.max(_map)"
   ]
  },
  {
   "cell_type": "code",
   "execution_count": 192,
   "metadata": {},
   "outputs": [
    {
     "data": {
      "text/plain": [
       "array([], dtype=float64)"
      ]
     },
     "execution_count": 192,
     "metadata": {},
     "output_type": "execute_result"
    }
   ],
   "source": [
    "_map[_map>0.]"
   ]
  },
  {
   "cell_type": "code",
   "execution_count": null,
   "metadata": {
    "collapsed": true
   },
   "outputs": [],
   "source": []
  }
 ],
 "metadata": {
  "kernelspec": {
   "display_name": "Python 3",
   "language": "python",
   "name": "python3"
  },
  "language_info": {
   "codemirror_mode": {
    "name": "ipython",
    "version": 2
   },
   "file_extension": ".py",
   "mimetype": "text/x-python",
   "name": "python",
   "nbconvert_exporter": "python",
   "pygments_lexer": "ipython2",
   "version": "2.7.13"
  }
 },
 "nbformat": 4,
 "nbformat_minor": 2
}
